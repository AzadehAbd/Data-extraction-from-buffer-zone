{
 "cells": [
  {
   "cell_type": "code",
   "execution_count": 1,
   "id": "7aa9a86c-6bfe-4159-a696-a56a5d13d62d",
   "metadata": {},
   "outputs": [],
   "source": [
    "import geopandas as gpd\n",
    "import rasterio\n",
    "from rasterstats import zonal_stats\n",
    "import os\n",
    "import pandas as pd\n",
    "import warnings\n",
    "from tqdm import tqdm  # Import tqdm for progress bars"
   ]
  },
  {
   "cell_type": "code",
   "execution_count": 2,
   "id": "c0ebc0ff-5d79-4da7-9489-c75254285c0c",
   "metadata": {},
   "outputs": [],
   "source": [
    "# Suppress specific NodataWarning without importing rasterstats.io\n",
    "warnings.filterwarnings(\"ignore\", message=\"Setting nodata to -999; specify nodata explicitly\")\n",
    "\n",
    "# Set nodata explicitly in the zonal_stats call (e.g., nodata=-999 or another value)\n",
    "nodata_value = -999  # You can specify a different nodata value if needed\n"
   ]
  },
  {
   "cell_type": "code",
   "execution_count": 3,
   "id": "2fecb864-9ed4-4a1a-b9ab-7ccb0d5ff512",
   "metadata": {},
   "outputs": [],
   "source": [
    "# Load the shapefile with circular polygons\n",
    "shapefile_path = 'F:/Landcover Classification_North Greece/Buffer/Buffer.shp'\n",
    "polygons = gpd.read_file(shapefile_path)"
   ]
  },
  {
   "cell_type": "code",
   "execution_count": 4,
   "id": "b39f35f8-c1d1-4681-8c64-f2c6661af1f1",
   "metadata": {},
   "outputs": [],
   "source": [
    "# Calculate centroids and add them to the GeoDataFrame\n",
    "polygons['centroid'] = polygons.geometry.centroid\n",
    "polygons['centroid_x'] = polygons['centroid'].x\n",
    "polygons['centroid_y'] = polygons['centroid'].y"
   ]
  },
  {
   "cell_type": "code",
   "execution_count": 5,
   "id": "ac59054c-74ca-42dc-a0ac-89b87e3e346a",
   "metadata": {},
   "outputs": [],
   "source": [
    "# Base folder containing all subdirectories with raster TIFF files\n",
    "base_raster_folder = 'F:/Landcover Classification_North Greece/Raster_files'"
   ]
  },
  {
   "cell_type": "code",
   "execution_count": 6,
   "id": "46956fa9-a9be-4ae1-a53c-42adeaccbeae",
   "metadata": {},
   "outputs": [],
   "source": [
    "# Initialize a list to store the results\n",
    "results = []"
   ]
  },
  {
   "cell_type": "code",
   "execution_count": 7,
   "id": "0b2babdb-72f7-476f-be86-2d289675233e",
   "metadata": {},
   "outputs": [],
   "source": [
    "# Get total number of folders and raster files for progress tracking\n",
    "raster_files = [os.path.join(root, file) for root, _, files in os.walk(base_raster_folder) for file in files if file.endswith('.tif')]\n",
    "total_rasters = len(raster_files) * len(polygons)"
   ]
  },
  {
   "cell_type": "code",
   "execution_count": 8,
   "id": "89ec4c1a-cd26-4679-b0de-8499a41dd2ce",
   "metadata": {},
   "outputs": [
    {
     "name": "stderr",
     "output_type": "stream",
     "text": [
      "Processing rasters and polygons: 100%|██████████| 1412208/1412208 [1:55:27<00:00, 203.86it/s]  \n"
     ]
    }
   ],
   "source": [
    "# Initialize the tqdm progress bar\n",
    "with tqdm(total=total_rasters, desc=\"Processing rasters and polygons\") as pbar:\n",
    "\n",
    "    # Loop over the subdirectories in the main raster folder\n",
    "    for folder_name in os.listdir(base_raster_folder):\n",
    "        folder_path = os.path.join(base_raster_folder, folder_name)\n",
    "        \n",
    "        if os.path.isdir(folder_path):  # Check if it's a directory\n",
    "            # Loop over raster files in the subdirectory\n",
    "            for raster_file in os.listdir(folder_path):\n",
    "                if raster_file.endswith('.tif'):  # Only process TIFF files\n",
    "                    raster_path = os.path.join(folder_path, raster_file)\n",
    "                    \n",
    "                    # Open the raster file\n",
    "                    with rasterio.open(raster_path) as src:\n",
    "                        \n",
    "                        # Calculate statistics (min, max, mean) for each polygon, specifying the nodata value\n",
    "                        stats = zonal_stats(polygons, raster_path, stats=['min', 'max', 'mean'], nodata=nodata_value)\n",
    "                        \n",
    "                        # Add each stat result along with the polygon attributes to the list\n",
    "                        for i, stat in enumerate(stats):\n",
    "                            # Extract the full row of attributes from the shapefile for each polygon\n",
    "                            polygon_attributes = polygons.iloc[i].to_dict()  # Convert row to dictionary\n",
    "                            \n",
    "                            # Combine polygon attributes with the statistics for each polygon\n",
    "                            result = {\n",
    "                                **polygon_attributes,  # Include all the original shapefile attributes\n",
    "                                'raster_file': raster_file,\n",
    "                                'mean': stat['mean'],\n",
    "                                'centroid_x': polygon_attributes['centroid_x'],  # Add centroid X coordinate\n",
    "                                'centroid_y': polygon_attributes['centroid_y'],  # Add centroid Y coordinate\n",
    "                                'VEG_CODE': polygon_attributes.get('VEG_CODE', None)  # Get VEG_CODE attribute if it exists\n",
    "                            }\n",
    "                            results.append(result)\n",
    "                            \n",
    "                            # Update the progress bar after processing each polygon\n",
    "                            pbar.update(1)"
   ]
  },
  {
   "cell_type": "code",
   "execution_count": 25,
   "id": "a9fad25b-91bf-4b44-91ff-3a6815be6f5d",
   "metadata": {},
   "outputs": [],
   "source": [
    "# Convert results into a DataFrame for easy saving or further processing\n",
    "df = pd.DataFrame(results)"
   ]
  },
  {
   "cell_type": "code",
   "execution_count": 29,
   "id": "bb37dd28-19fe-4fd3-9644-fcb65d3cf142",
   "metadata": {},
   "outputs": [
    {
     "name": "stdout",
     "output_type": "stream",
     "text": [
      "Results saved to F:/Landcover Classification_North Greece/output_statistics_multiple_folders.csv\n"
     ]
    }
   ],
   "source": [
    "# Save to a CSV file\n",
    "output_csv = 'F:/Landcover Classification_North Greece/output_statistics_multiple_folders.csv'\n",
    "df.to_csv(output_csv, index=False)\n",
    "\n",
    "print(f\"Results saved to {output_csv}\")"
   ]
  }
 ],
 "metadata": {
  "kernelspec": {
   "display_name": "Python 3 (ipykernel)",
   "language": "python",
   "name": "python3"
  },
  "language_info": {
   "codemirror_mode": {
    "name": "ipython",
    "version": 3
   },
   "file_extension": ".py",
   "mimetype": "text/x-python",
   "name": "python",
   "nbconvert_exporter": "python",
   "pygments_lexer": "ipython3",
   "version": "3.12.4"
  }
 },
 "nbformat": 4,
 "nbformat_minor": 5
}
